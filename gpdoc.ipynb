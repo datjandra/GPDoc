{
  "cells": [
    {
      "cell_type": "markdown",
      "metadata": {
        "id": "view-in-github",
        "colab_type": "text"
      },
      "source": [
        "<a href=\"https://colab.research.google.com/github/datjandra/GPDoc/blob/main/gpdoc.ipynb\" target=\"_parent\"><img src=\"https://colab.research.google.com/assets/colab-badge.svg\" alt=\"Open In Colab\"/></a>"
      ]
    },
    {
      "cell_type": "markdown",
      "source": [
        "INSTRUCTIONS:\n",
        "\n",
        "1. Get a HuggingFace token from huggingface.co. Copy the token, find the section below that says HF_TOKEN=HUGGINGFACE_TOKEN, and paste the token there. Run the cell and verify the token is printed in output.\n",
        "2. In left navbar click Files icon. Right click anywhere in the Files section and create a new folder called patient_data.\n",
        "3. Add doctor's notes in .txt file format to patient_data folder. Below is an example note. **Don't** use notes with real patient data!  \n",
        "4. Run the code below then it will try to find answers from the notes. Change the questions in the code if you like and rerun.\n",
        "5. If you find issues like missing imports then try restarting session under Runtime menu.\n",
        "\n",
        "\n",
        "```\n",
        "Personal Data and Overall Health\n",
        "September 1, 2006\n",
        "\n",
        "Problems\n",
        "Asthma, unspecified without mention of status asthmaticus\n",
        "\n",
        "Medications\n",
        "Flovent 110 mcg/inh aerosol with adapter Glaxo Wellcome\n",
        "Singulair 5mg tablet chewable Merck & Co. Inc\n",
        "Albuterol Sulfate 4mg tablet ESI Lederle Generics\n",
        "Sulfamethoxazole-Trimethoprim 80mg-16 mg/ml solution ESI Lederle Generics\n",
        "Penicillin V Potassium V potassium 500mg tablet UDL Laboratories Inc\n",
        "\n",
        "Allergies\n",
        "Lactose\n",
        "Shellfish\n",
        "\n",
        "\n",
        "Reason for Visit\n",
        "Shortness of breath following pneumonia.\n",
        "\n",
        "Narrative History\n",
        "Patient diagnosed with Asthma 01/03. Has severe shortness of breath, fainting spells 2 week after pneumonia diagnosis.\n",
        "\n",
        "Review of Systems\n",
        "Shortness of breath. Coughing. Swimming in the head. Chest pain.\n",
        "\n",
        "Vital Signs\n",
        "BLOOD PRESSURE   119/61\n",
        "PULSE   125.7\n",
        "TEMPERATURE   97.8 F\n",
        "WEIGHT   114.4 lb\n",
        "O2 SAT   81\n",
        "\n",
        "\n",
        "Exam\n",
        "Pharynx normal.? PERRL, EOM full.\n",
        "Neck without nodes.\n",
        "Chest is clear to P&A.\n",
        "Cor: normal S1, S2, without gallop or murmur.\n",
        "\n",
        "\n",
        "External Labs\n",
        "CXR reviewed: clear.\n",
        "\n",
        "Impression\n",
        "Generally doing well.? Low 02 sat. Pain reasonably well controlled.? No signs of active infection.\n",
        "\n",
        "Plan\n",
        "1.)? Nebulizer\n",
        "2.)? RTC 2 weeks.\n",
        "```\n",
        "\n"
      ],
      "metadata": {
        "id": "QWeUKa1Ou7pF"
      }
    },
    {
      "cell_type": "code",
      "execution_count": null,
      "metadata": {
        "colab": {
          "base_uri": "https://localhost:8080/"
        },
        "id": "8GOnj-uNwte0",
        "outputId": "057b654d-b8c4-4d56-fdb4-e370e2319fe1"
      },
      "outputs": [
        {
          "output_type": "stream",
          "name": "stdout",
          "text": [
            "Requirement already satisfied: llama-index in /usr/local/lib/python3.10/dist-packages (0.9.37.post1)\n",
            "Requirement already satisfied: SQLAlchemy[asyncio]>=1.4.49 in /usr/local/lib/python3.10/dist-packages (from llama-index) (2.0.24)\n",
            "Requirement already satisfied: aiohttp<4.0.0,>=3.8.6 in /usr/local/lib/python3.10/dist-packages (from llama-index) (3.9.1)\n",
            "Requirement already satisfied: dataclasses-json in /usr/local/lib/python3.10/dist-packages (from llama-index) (0.6.3)\n",
            "Requirement already satisfied: deprecated>=1.2.9.3 in /usr/local/lib/python3.10/dist-packages (from llama-index) (1.2.14)\n",
            "Requirement already satisfied: fsspec>=2023.5.0 in /usr/local/lib/python3.10/dist-packages (from llama-index) (2023.6.0)\n",
            "Requirement already satisfied: httpx in /usr/local/lib/python3.10/dist-packages (from llama-index) (0.26.0)\n",
            "Requirement already satisfied: nest-asyncio<2.0.0,>=1.5.8 in /usr/local/lib/python3.10/dist-packages (from llama-index) (1.6.0)\n",
            "Requirement already satisfied: networkx>=3.0 in /usr/local/lib/python3.10/dist-packages (from llama-index) (3.2.1)\n",
            "Requirement already satisfied: nltk<4.0.0,>=3.8.1 in /usr/local/lib/python3.10/dist-packages (from llama-index) (3.8.1)\n",
            "Requirement already satisfied: numpy in /usr/local/lib/python3.10/dist-packages (from llama-index) (1.23.5)\n",
            "Requirement already satisfied: openai>=1.1.0 in /usr/local/lib/python3.10/dist-packages (from llama-index) (1.9.0)\n",
            "Requirement already satisfied: pandas in /usr/local/lib/python3.10/dist-packages (from llama-index) (1.5.3)\n",
            "Requirement already satisfied: requests>=2.31.0 in /usr/local/lib/python3.10/dist-packages (from llama-index) (2.31.0)\n",
            "Requirement already satisfied: tenacity<9.0.0,>=8.2.0 in /usr/local/lib/python3.10/dist-packages (from llama-index) (8.2.3)\n",
            "Requirement already satisfied: tiktoken>=0.3.3 in /usr/local/lib/python3.10/dist-packages (from llama-index) (0.5.2)\n",
            "Requirement already satisfied: typing-extensions>=4.5.0 in /usr/local/lib/python3.10/dist-packages (from llama-index) (4.9.0)\n",
            "Requirement already satisfied: typing-inspect>=0.8.0 in /usr/local/lib/python3.10/dist-packages (from llama-index) (0.9.0)\n",
            "Requirement already satisfied: attrs>=17.3.0 in /usr/local/lib/python3.10/dist-packages (from aiohttp<4.0.0,>=3.8.6->llama-index) (23.2.0)\n",
            "Requirement already satisfied: multidict<7.0,>=4.5 in /usr/local/lib/python3.10/dist-packages (from aiohttp<4.0.0,>=3.8.6->llama-index) (6.0.4)\n",
            "Requirement already satisfied: yarl<2.0,>=1.0 in /usr/local/lib/python3.10/dist-packages (from aiohttp<4.0.0,>=3.8.6->llama-index) (1.9.4)\n",
            "Requirement already satisfied: frozenlist>=1.1.1 in /usr/local/lib/python3.10/dist-packages (from aiohttp<4.0.0,>=3.8.6->llama-index) (1.4.1)\n",
            "Requirement already satisfied: aiosignal>=1.1.2 in /usr/local/lib/python3.10/dist-packages (from aiohttp<4.0.0,>=3.8.6->llama-index) (1.3.1)\n",
            "Requirement already satisfied: async-timeout<5.0,>=4.0 in /usr/local/lib/python3.10/dist-packages (from aiohttp<4.0.0,>=3.8.6->llama-index) (4.0.3)\n",
            "Requirement already satisfied: wrapt<2,>=1.10 in /usr/local/lib/python3.10/dist-packages (from deprecated>=1.2.9.3->llama-index) (1.14.1)\n",
            "Requirement already satisfied: click in /usr/local/lib/python3.10/dist-packages (from nltk<4.0.0,>=3.8.1->llama-index) (8.1.7)\n",
            "Requirement already satisfied: joblib in /usr/local/lib/python3.10/dist-packages (from nltk<4.0.0,>=3.8.1->llama-index) (1.3.2)\n",
            "Requirement already satisfied: regex>=2021.8.3 in /usr/local/lib/python3.10/dist-packages (from nltk<4.0.0,>=3.8.1->llama-index) (2023.6.3)\n",
            "Requirement already satisfied: tqdm in /usr/local/lib/python3.10/dist-packages (from nltk<4.0.0,>=3.8.1->llama-index) (4.66.1)\n",
            "Requirement already satisfied: anyio<5,>=3.5.0 in /usr/local/lib/python3.10/dist-packages (from openai>=1.1.0->llama-index) (3.7.1)\n",
            "Requirement already satisfied: distro<2,>=1.7.0 in /usr/lib/python3/dist-packages (from openai>=1.1.0->llama-index) (1.7.0)\n",
            "Requirement already satisfied: pydantic<3,>=1.9.0 in /usr/local/lib/python3.10/dist-packages (from openai>=1.1.0->llama-index) (1.10.14)\n",
            "Requirement already satisfied: sniffio in /usr/local/lib/python3.10/dist-packages (from openai>=1.1.0->llama-index) (1.3.0)\n",
            "Requirement already satisfied: certifi in /usr/local/lib/python3.10/dist-packages (from httpx->llama-index) (2023.11.17)\n",
            "Requirement already satisfied: httpcore==1.* in /usr/local/lib/python3.10/dist-packages (from httpx->llama-index) (1.0.2)\n",
            "Requirement already satisfied: idna in /usr/local/lib/python3.10/dist-packages (from httpx->llama-index) (3.6)\n",
            "Requirement already satisfied: h11<0.15,>=0.13 in /usr/local/lib/python3.10/dist-packages (from httpcore==1.*->httpx->llama-index) (0.14.0)\n",
            "Requirement already satisfied: charset-normalizer<4,>=2 in /usr/local/lib/python3.10/dist-packages (from requests>=2.31.0->llama-index) (3.3.2)\n",
            "Requirement already satisfied: urllib3<3,>=1.21.1 in /usr/local/lib/python3.10/dist-packages (from requests>=2.31.0->llama-index) (2.0.7)\n",
            "Requirement already satisfied: greenlet!=0.4.17 in /usr/local/lib/python3.10/dist-packages (from SQLAlchemy[asyncio]>=1.4.49->llama-index) (3.0.3)\n",
            "Requirement already satisfied: mypy-extensions>=0.3.0 in /usr/local/lib/python3.10/dist-packages (from typing-inspect>=0.8.0->llama-index) (1.0.0)\n",
            "Requirement already satisfied: marshmallow<4.0.0,>=3.18.0 in /usr/local/lib/python3.10/dist-packages (from dataclasses-json->llama-index) (3.20.2)\n",
            "Requirement already satisfied: python-dateutil>=2.8.1 in /usr/local/lib/python3.10/dist-packages (from pandas->llama-index) (2.8.2)\n",
            "Requirement already satisfied: pytz>=2020.1 in /usr/local/lib/python3.10/dist-packages (from pandas->llama-index) (2023.3.post1)\n",
            "Requirement already satisfied: exceptiongroup in /usr/local/lib/python3.10/dist-packages (from anyio<5,>=3.5.0->openai>=1.1.0->llama-index) (1.2.0)\n",
            "Requirement already satisfied: packaging>=17.0 in /usr/local/lib/python3.10/dist-packages (from marshmallow<4.0.0,>=3.18.0->dataclasses-json->llama-index) (23.2)\n",
            "Requirement already satisfied: six>=1.5 in /usr/local/lib/python3.10/dist-packages (from python-dateutil>=2.8.1->pandas->llama-index) (1.16.0)\n"
          ]
        }
      ],
      "source": [
        "# !pip install \"transformers[torch]\" \"huggingface_hub[inference]\"\n",
        "!pip install llama-index"
      ]
    },
    {
      "cell_type": "code",
      "source": [
        "%env HF_TOKEN=HUGGINGFACE_TOKEN"
      ],
      "metadata": {
        "colab": {
          "base_uri": "https://localhost:8080/"
        },
        "id": "fogJH_ZJ2xzd",
        "outputId": "4f61c04d-3621-43be-fc8e-840e477ba7bd"
      },
      "execution_count": null,
      "outputs": [
        {
          "output_type": "stream",
          "name": "stdout",
          "text": [
            "env: HF_TOKEN=HUGGINGFACE_TOKEN\n"
          ]
        }
      ]
    },
    {
      "cell_type": "code",
      "execution_count": null,
      "metadata": {
        "id": "tsvxmLRvzJ6U",
        "colab": {
          "base_uri": "https://localhost:8080/"
        },
        "outputId": "e26fb2e5-3bed-4302-8437-21b4e42d2c39"
      },
      "outputs": [
        {
          "output_type": "stream",
          "name": "stdout",
          "text": [
            "*** Patient History ***\n",
            "User: Can you provide more details about the patient's medical history, including past illnesses or surgeries?\n",
            "GPDoc: The patient's medical history includes asthma, salt-rheum, and back pain. However, there is no mention of any surgeries in the given context information.\n",
            "\n",
            "*** Follow-ups ***\n",
            "User: Could you clarify the follow-up recommendations mentioned in the notes?\n",
            "GPDoc: In the first note, the patient was admitted to the ER for dehydration and nausea, vomiting, and diarrhea. The follow-up recommendations would likely involve close monitoring of the patient's hydration status and management of any ongoing gastrointestinal symptoms. The patient may need to continue with IV fluids and antibiotics, and may require further testing to determine the underlying cause of the gastroenteritis.\n",
            "\n",
            "In the second note, the patient is suspected to be pregnant based on a positive home pregnancy test. The follow-up recommendations would likely involve confirming the pregnancy with a lab pregnancy test and monitoring the patient's health throughout the pregnancy. The patient may need to adjust her medication regimen and lifestyle habits to ensure a healthy pregnancy.\n",
            "\n",
            "*** Progress Update ***\n",
            "User: Are there any new symptoms or changes in the patient's health status that we should be aware of?\n",
            "GPDoc: Yes, the patient has developed nausea, vomiting, and diarrhea, which are new symptoms. She has been unable to keep up with her fluid losses and was found to be very dehydrated at an outside institution. She received IV fluids and was transferred here for further management of her dehydration.\n",
            "\n",
            "*** Medication Adjustments ***\n",
            "User: What are the current dosages and frequencies of the medications prescribed?\n",
            "GPDoc: 1. Flovent 110 mcg/inh aerosol with adapter Glaxo Wellcome - unspecified dosage and frequency\n",
            "2. Singulair 5mg tablet chewable Merck & Co. Inc - unspecified dosage and frequency\n",
            "3. Albuterol Sulfate 4mg tablet ESI Lederle Generics - unspecified dosage and frequency\n",
            "4. Sulfamethoxazole-Trimethoprim 80mg-16 mg/ml solution ESI Lederle Generics - unspecified dosage and frequency\n",
            "5. Penicillin V Potassium V potassium 500mg tablet UDL Laboratories Inc - unspecified dosage and frequency\n",
            "\n",
            "Note: The medication information provided in the given context is incomplete and does not specify the dosages and frequencies.\n",
            "\n",
            "*** Treatment ***\n",
            "User: What is the rationale behind starting Singulair for this patient?\n",
            "GPDoc: The patient has a history of asthma, and Singulair is a medication commonly used to treat asthma symptoms. The medication is a leukotriene receptor antagonist that helps to reduce inflammation in the airways and alleviate symptoms such as coughing, wheezing, and shortness of breath. The patient's recent diagnosis of pneumonia may have exacerbated their asthma symptoms, which is why Singulair may be prescribed to help manage their condition.\n",
            "\n",
            "*** Diagnosis ***\n",
            "User: Can you provide more details about the symptoms or findings that led to this diagnosis?\n",
            "GPDoc: The patient presented with nausea, vomiting, and diarrhea for one day, which is consistent with gastroenteritis. She had been unable to keep up with her fluid losses and was found to be very dehydrated at an outside institution. She received IV fluids and was transferred here for further management of her dehydration. Her heart rate was down into 114 and her blood pressure was normal. She left the ER after IV treatment and antibiotics without incident. These symptoms and findings led to the diagnosis of nausea, vomiting, and diarrhea, as well as dehydration.\n",
            "\n",
            "*** Procedures ***\n",
            "User: Can you describe any complications or post-procedure care instructions associated with surgeries?\n",
            "GPDoc: No, the context information provided does not mention any surgeries or post-procedure care instructions.\n"
          ]
        }
      ],
      "source": [
        "import os\n",
        "from transformers import GPT2TokenizerFast, GPT2LMHeadModel\n",
        "from llama_index import SimpleDirectoryReader, ServiceContext, VectorStoreIndex\n",
        "from llama_index.llms import HuggingFaceInferenceAPI\n",
        "\n",
        "llm = HuggingFaceInferenceAPI(model_name=\"HuggingFaceH4/zephyr-7b-alpha\", token=os.environ['HF_TOKEN'])\n",
        "service_context = ServiceContext.from_defaults(chunk_size=1024, llm=llm, embed_model=\"local\")\n",
        "\n",
        "docs = SimpleDirectoryReader(\"/content/patient_data\").load_data()\n",
        "index = VectorStoreIndex.from_documents(docs, service_context=service_context)\n",
        "query_engine = index.as_query_engine()\n",
        "\n",
        "user = \"User:\"\n",
        "gpdoc = \"GPDoc:\"\n",
        "print(\"*** Patient History ***\")\n",
        "question = \"Can you provide more details about the patient's medical history, including past illnesses or surgeries?\"\n",
        "answer = query_engine.query(question)\n",
        "print(user, question)\n",
        "print(gpdoc, answer.response.strip())\n",
        "print()\n",
        "\n",
        "print(\"*** Follow-ups ***\")\n",
        "question = \"Could you clarify the follow-up recommendations mentioned in the notes?\"\n",
        "answer = query_engine.query(question)\n",
        "print(user, question)\n",
        "print(gpdoc, answer.response.strip())\n",
        "print()\n",
        "\n",
        "print(\"*** Progress Update ***\")\n",
        "question = \"Are there any new symptoms or changes in the patient's health status that we should be aware of?\"\n",
        "answer = query_engine.query(question)\n",
        "print(user, question)\n",
        "print(gpdoc, answer.response.strip())\n",
        "print()\n",
        "\n",
        "print(\"*** Medication Adjustments ***\")\n",
        "question = \"What are the current dosages and frequencies of the medications prescribed?\"\n",
        "answer = query_engine.query(question)\n",
        "print(user, question)\n",
        "print(gpdoc, answer.response.strip())\n",
        "print()\n",
        "\n",
        "print(\"*** Treatment ***\")\n",
        "question = \"What is the rationale behind starting Singulair for this patient?\"\n",
        "answer = query_engine.query(question)\n",
        "print(user, question)\n",
        "print(gpdoc, answer.response.strip())\n",
        "print()\n",
        "\n",
        "print(\"*** Diagnosis ***\")\n",
        "question = \"Can you provide more details about the symptoms or findings that led to this diagnosis?\"\n",
        "answer = query_engine.query(question)\n",
        "print(user, question)\n",
        "print(gpdoc, answer.response.strip())\n",
        "print()\n",
        "\n",
        "print(\"*** Procedures ***\")\n",
        "question = \"Can you describe any complications or post-procedure care instructions associated with surgeries?\"\n",
        "answer = query_engine.query(question)\n",
        "print(user, question)\n",
        "print(gpdoc, answer.response.strip())"
      ]
    }
  ],
  "metadata": {
    "accelerator": "GPU",
    "colab": {
      "provenance": [],
      "gpuType": "T4",
      "include_colab_link": true
    },
    "kernelspec": {
      "display_name": "Python 3",
      "name": "python3"
    },
    "language_info": {
      "name": "python"
    }
  },
  "nbformat": 4,
  "nbformat_minor": 0
}